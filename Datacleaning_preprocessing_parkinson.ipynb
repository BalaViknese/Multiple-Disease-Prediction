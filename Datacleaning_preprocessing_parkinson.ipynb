{
 "cells": [
  {
   "cell_type": "code",
   "execution_count": 1,
   "id": "4e7f9612",
   "metadata": {},
   "outputs": [],
   "source": [
    "import pandas as pd"
   ]
  },
  {
   "cell_type": "code",
   "execution_count": 2,
   "id": "15f16dbb",
   "metadata": {},
   "outputs": [],
   "source": [
    "df = pd.read_csv(r\"E:\\GUVI\\Project 4\\parkinsons - parkinsons.csv\")"
   ]
  },
  {
   "cell_type": "code",
   "execution_count": 3,
   "id": "e4f76921",
   "metadata": {},
   "outputs": [
    {
     "name": "stdout",
     "output_type": "stream",
     "text": [
      "Shape: (195, 24)\n",
      "Columns: ['name', 'MDVP:Fo(Hz)', 'MDVP:Fhi(Hz)', 'MDVP:Flo(Hz)', 'MDVP:Jitter(%)', 'MDVP:Jitter(Abs)', 'MDVP:RAP', 'MDVP:PPQ', 'Jitter:DDP', 'MDVP:Shimmer', 'MDVP:Shimmer(dB)', 'Shimmer:APQ3', 'Shimmer:APQ5', 'MDVP:APQ', 'Shimmer:DDA', 'NHR', 'HNR', 'status', 'RPDE', 'DFA', 'spread1', 'spread2', 'D2', 'PPE']\n",
      "<class 'pandas.core.frame.DataFrame'>\n",
      "RangeIndex: 195 entries, 0 to 194\n",
      "Data columns (total 24 columns):\n",
      " #   Column            Non-Null Count  Dtype  \n",
      "---  ------            --------------  -----  \n",
      " 0   name              195 non-null    object \n",
      " 1   MDVP:Fo(Hz)       195 non-null    float64\n",
      " 2   MDVP:Fhi(Hz)      195 non-null    float64\n",
      " 3   MDVP:Flo(Hz)      195 non-null    float64\n",
      " 4   MDVP:Jitter(%)    195 non-null    float64\n",
      " 5   MDVP:Jitter(Abs)  195 non-null    float64\n",
      " 6   MDVP:RAP          195 non-null    float64\n",
      " 7   MDVP:PPQ          195 non-null    float64\n",
      " 8   Jitter:DDP        195 non-null    float64\n",
      " 9   MDVP:Shimmer      195 non-null    float64\n",
      " 10  MDVP:Shimmer(dB)  195 non-null    float64\n",
      " 11  Shimmer:APQ3      195 non-null    float64\n",
      " 12  Shimmer:APQ5      195 non-null    float64\n",
      " 13  MDVP:APQ          195 non-null    float64\n",
      " 14  Shimmer:DDA       195 non-null    float64\n",
      " 15  NHR               195 non-null    float64\n",
      " 16  HNR               195 non-null    float64\n",
      " 17  status            195 non-null    int64  \n",
      " 18  RPDE              195 non-null    float64\n",
      " 19  DFA               195 non-null    float64\n",
      " 20  spread1           195 non-null    float64\n",
      " 21  spread2           195 non-null    float64\n",
      " 22  D2                195 non-null    float64\n",
      " 23  PPE               195 non-null    float64\n",
      "dtypes: float64(22), int64(1), object(1)\n",
      "memory usage: 36.7+ KB\n",
      "None\n",
      "       MDVP:Fo(Hz)  MDVP:Fhi(Hz)  MDVP:Flo(Hz)  MDVP:Jitter(%)  \\\n",
      "count   195.000000    195.000000    195.000000      195.000000   \n",
      "mean    154.228641    197.104918    116.324631        0.006220   \n",
      "std      41.390065     91.491548     43.521413        0.004848   \n",
      "min      88.333000    102.145000     65.476000        0.001680   \n",
      "25%     117.572000    134.862500     84.291000        0.003460   \n",
      "50%     148.790000    175.829000    104.315000        0.004940   \n",
      "75%     182.769000    224.205500    140.018500        0.007365   \n",
      "max     260.105000    592.030000    239.170000        0.033160   \n",
      "\n",
      "       MDVP:Jitter(Abs)    MDVP:RAP    MDVP:PPQ  Jitter:DDP  MDVP:Shimmer  \\\n",
      "count        195.000000  195.000000  195.000000  195.000000    195.000000   \n",
      "mean           0.000044    0.003306    0.003446    0.009920      0.029709   \n",
      "std            0.000035    0.002968    0.002759    0.008903      0.018857   \n",
      "min            0.000007    0.000680    0.000920    0.002040      0.009540   \n",
      "25%            0.000020    0.001660    0.001860    0.004985      0.016505   \n",
      "50%            0.000030    0.002500    0.002690    0.007490      0.022970   \n",
      "75%            0.000060    0.003835    0.003955    0.011505      0.037885   \n",
      "max            0.000260    0.021440    0.019580    0.064330      0.119080   \n",
      "\n",
      "       MDVP:Shimmer(dB)  ...  Shimmer:DDA         NHR         HNR      status  \\\n",
      "count        195.000000  ...   195.000000  195.000000  195.000000  195.000000   \n",
      "mean           0.282251  ...     0.046993    0.024847   21.885974    0.753846   \n",
      "std            0.194877  ...     0.030459    0.040418    4.425764    0.431878   \n",
      "min            0.085000  ...     0.013640    0.000650    8.441000    0.000000   \n",
      "25%            0.148500  ...     0.024735    0.005925   19.198000    1.000000   \n",
      "50%            0.221000  ...     0.038360    0.011660   22.085000    1.000000   \n",
      "75%            0.350000  ...     0.060795    0.025640   25.075500    1.000000   \n",
      "max            1.302000  ...     0.169420    0.314820   33.047000    1.000000   \n",
      "\n",
      "             RPDE         DFA     spread1     spread2          D2         PPE  \n",
      "count  195.000000  195.000000  195.000000  195.000000  195.000000  195.000000  \n",
      "mean     0.498536    0.718099   -5.684397    0.226510    2.381826    0.206552  \n",
      "std      0.103942    0.055336    1.090208    0.083406    0.382799    0.090119  \n",
      "min      0.256570    0.574282   -7.964984    0.006274    1.423287    0.044539  \n",
      "25%      0.421306    0.674758   -6.450096    0.174351    2.099125    0.137451  \n",
      "50%      0.495954    0.722254   -5.720868    0.218885    2.361532    0.194052  \n",
      "75%      0.587562    0.761881   -5.046192    0.279234    2.636456    0.252980  \n",
      "max      0.685151    0.825288   -2.434031    0.450493    3.671155    0.527367  \n",
      "\n",
      "[8 rows x 23 columns]\n",
      "Missing values:\n",
      " name                0\n",
      "MDVP:Fo(Hz)         0\n",
      "MDVP:Fhi(Hz)        0\n",
      "MDVP:Flo(Hz)        0\n",
      "MDVP:Jitter(%)      0\n",
      "MDVP:Jitter(Abs)    0\n",
      "MDVP:RAP            0\n",
      "MDVP:PPQ            0\n",
      "Jitter:DDP          0\n",
      "MDVP:Shimmer        0\n",
      "MDVP:Shimmer(dB)    0\n",
      "Shimmer:APQ3        0\n",
      "Shimmer:APQ5        0\n",
      "MDVP:APQ            0\n",
      "Shimmer:DDA         0\n",
      "NHR                 0\n",
      "HNR                 0\n",
      "status              0\n",
      "RPDE                0\n",
      "DFA                 0\n",
      "spread1             0\n",
      "spread2             0\n",
      "D2                  0\n",
      "PPE                 0\n",
      "dtype: int64\n"
     ]
    }
   ],
   "source": [
    "print(\"Shape:\", df.shape)\n",
    "print(\"Columns:\", df.columns.tolist())\n",
    "print(df.info())\n",
    "print(df.describe())\n",
    "print(\"Missing values:\\n\", df.isnull().sum())"
   ]
  },
  {
   "cell_type": "code",
   "execution_count": 4,
   "id": "c409ed06",
   "metadata": {},
   "outputs": [
    {
     "name": "stdout",
     "output_type": "stream",
     "text": [
      "\n",
      "Class balance:\n",
      "status\n",
      "1    147\n",
      "0     48\n",
      "Name: count, dtype: int64\n"
     ]
    }
   ],
   "source": [
    "print(\"\\nClass balance:\")\n",
    "print(df['status'].value_counts())"
   ]
  },
  {
   "cell_type": "code",
   "execution_count": 5,
   "id": "f03cf3b3",
   "metadata": {},
   "outputs": [],
   "source": [
    "from sklearn.preprocessing import StandardScaler"
   ]
  },
  {
   "cell_type": "code",
   "execution_count": 6,
   "id": "3253a160",
   "metadata": {},
   "outputs": [],
   "source": [
    "df.drop(columns=['name'], inplace=True)"
   ]
  },
  {
   "cell_type": "code",
   "execution_count": 7,
   "id": "6fd07e47",
   "metadata": {},
   "outputs": [],
   "source": [
    "X = df.drop('status', axis=1)\n",
    "y = df['status']"
   ]
  },
  {
   "cell_type": "code",
   "execution_count": 8,
   "id": "fb988ff8",
   "metadata": {},
   "outputs": [],
   "source": [
    "scaler = StandardScaler()\n",
    "X_scaled = scaler.fit_transform(X)"
   ]
  },
  {
   "cell_type": "code",
   "execution_count": 9,
   "id": "41f8670b",
   "metadata": {},
   "outputs": [],
   "source": [
    "from sklearn.model_selection import train_test_split\n",
    "from sklearn.linear_model import LogisticRegression\n",
    "from sklearn.ensemble import RandomForestClassifier\n",
    "from sklearn.metrics import classification_report, roc_auc_score"
   ]
  },
  {
   "cell_type": "code",
   "execution_count": 10,
   "id": "7de04198",
   "metadata": {},
   "outputs": [],
   "source": [
    "X_train, X_test, y_train, y_test = train_test_split(\n",
    "    X_scaled, y, test_size=0.2, random_state=42, stratify=y)"
   ]
  },
  {
   "cell_type": "code",
   "execution_count": 11,
   "id": "cd20068a",
   "metadata": {},
   "outputs": [],
   "source": [
    "lr = LogisticRegression(max_iter=1000, random_state=42)\n",
    "lr.fit(X_train, y_train)\n",
    "lr_pred = lr.predict(X_test)"
   ]
  },
  {
   "cell_type": "code",
   "execution_count": 12,
   "id": "4676279c",
   "metadata": {},
   "outputs": [],
   "source": [
    "rf = RandomForestClassifier(random_state=42)\n",
    "rf.fit(X_train, y_train)\n",
    "rf_pred = rf.predict(X_test)"
   ]
  },
  {
   "cell_type": "code",
   "execution_count": 13,
   "id": "24ffc2d9",
   "metadata": {},
   "outputs": [
    {
     "name": "stdout",
     "output_type": "stream",
     "text": [
      "\n",
      "Logistic Regression Report:\n",
      "              precision    recall  f1-score   support\n",
      "\n",
      "           0       0.89      0.80      0.84        10\n",
      "           1       0.93      0.97      0.95        29\n",
      "\n",
      "    accuracy                           0.92        39\n",
      "   macro avg       0.91      0.88      0.90        39\n",
      "weighted avg       0.92      0.92      0.92        39\n",
      "\n",
      "ROC-AUC: 0.9241379310344828\n",
      "\n",
      "Random Forest Report:\n",
      "              precision    recall  f1-score   support\n",
      "\n",
      "           0       0.89      0.80      0.84        10\n",
      "           1       0.93      0.97      0.95        29\n",
      "\n",
      "    accuracy                           0.92        39\n",
      "   macro avg       0.91      0.88      0.90        39\n",
      "weighted avg       0.92      0.92      0.92        39\n",
      "\n",
      "ROC-AUC: 0.9620689655172414\n"
     ]
    }
   ],
   "source": [
    "print(\"\\nLogistic Regression Report:\")\n",
    "print(classification_report(y_test, lr_pred))\n",
    "print(\"ROC-AUC:\", roc_auc_score(y_test, lr.predict_proba(X_test)[:,1]))\n",
    "\n",
    "print(\"\\nRandom Forest Report:\")\n",
    "print(classification_report(y_test, rf_pred))\n",
    "print(\"ROC-AUC:\", roc_auc_score(y_test, rf.predict_proba(X_test)[:,1]))"
   ]
  },
  {
   "cell_type": "code",
   "execution_count": 14,
   "id": "b7c9983c",
   "metadata": {},
   "outputs": [
    {
     "data": {
      "text/plain": [
       "['C:\\\\Users\\\\Bala viknese\\\\PycharmProjects\\\\Pythonproject4\\\\parkinsons_scaler.pk']"
      ]
     },
     "execution_count": 14,
     "metadata": {},
     "output_type": "execute_result"
    }
   ],
   "source": [
    "import joblib\n",
    "\n",
    "joblib.dump(rf, r\"E:\\GUVI\\Project 4\\parkinsons_rf_model.pkl\")\n",
    "joblib.dump(scaler, r\"C:\\Users\\Bala viknese\\PycharmProjects\\Pythonproject4\\parkinsons_scaler.pk\")"
   ]
  },
  {
   "cell_type": "code",
   "execution_count": null,
   "id": "7e95b723",
   "metadata": {},
   "outputs": [],
   "source": []
  }
 ],
 "metadata": {
  "kernelspec": {
   "display_name": "base",
   "language": "python",
   "name": "python3"
  },
  "language_info": {
   "codemirror_mode": {
    "name": "ipython",
    "version": 3
   },
   "file_extension": ".py",
   "mimetype": "text/x-python",
   "name": "python",
   "nbconvert_exporter": "python",
   "pygments_lexer": "ipython3",
   "version": "3.12.7"
  }
 },
 "nbformat": 4,
 "nbformat_minor": 5
}
